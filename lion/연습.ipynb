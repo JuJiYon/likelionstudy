{
 "cells": [
  {
   "cell_type": "code",
   "execution_count": null,
   "metadata": {},
   "outputs": [],
   "source": [
    "print(\"HI\")"
   ]
  },
  {
   "cell_type": "code",
   "execution_count": null,
   "metadata": {},
   "outputs": [],
   "source": [
    "print(\"Hello Python\")"
   ]
  },
  {
   "cell_type": "code",
   "execution_count": null,
   "metadata": {},
   "outputs": [],
   "source": [
    "var1 = 2\n",
    "var2 = 1\n",
    "print(var1 + var2)\n",
    "print(id(var1))\n",
    "print(id(var2))"
   ]
  },
  {
   "cell_type": "code",
   "execution_count": null,
   "metadata": {},
   "outputs": [],
   "source": [
    "var3 = 3\n",
    "var4 =\"\"\n",
    "print(var4)\n",
    "\n",
    "\n"
   ]
  },
  {
   "cell_type": "code",
   "execution_count": null,
   "metadata": {},
   "outputs": [],
   "source": [
    "print(\"결과는\",pow(3,2))\n",
    "print(sum([1,2]))"
   ]
  },
  {
   "cell_type": "code",
   "execution_count": null,
   "metadata": {},
   "outputs": [],
   "source": [
    "#리스트 개념\n",
    "ex1 = list(range(0,10))\n",
    "print(ex1)\n",
    "# 1~100 까지 더하는 프로그램을 한 줄로 작성하시오!\n",
    "print(sum(list(range(1,101))))"
   ]
  },
  {
   "cell_type": "code",
   "execution_count": null,
   "metadata": {},
   "outputs": [],
   "source": [
    "# input 함수의 활용\n",
    "\n",
    "no1 = input()\n",
    "no2 = input()\n",
    "print(int(no1) + int(no2))"
   ]
  },
  {
   "cell_type": "code",
   "execution_count": null,
   "metadata": {},
   "outputs": [],
   "source": [
    "import math\n",
    "\n",
    "print(math.sqrt(12))\n",
    "print(int(math.sqrt(12)))\n",
    "print(round(math.sqrt(12),3))"
   ]
  },
  {
   "cell_type": "code",
   "execution_count": null,
   "metadata": {},
   "outputs": [],
   "source": [
    "print(sum(list(range(1,101))))\n",
    "print(sum(list(range(101))))\n",
    "print(sum(list(range(100+1))))"
   ]
  },
  {
   "cell_type": "code",
   "execution_count": null,
   "metadata": {},
   "outputs": [],
   "source": [
    "# 변수와 함수의 호출 \n",
    "str1= \" 오늘 점심 닭가슴살\"\n",
    "print(str1.lstrip())\n",
    "print(str1.isnumeric())\n",
    "str1.replace('점심','저녁')"
   ]
  },
  {
   "cell_type": "code",
   "execution_count": null,
   "metadata": {},
   "outputs": [],
   "source": [
    "# 리스트 유형의 이해\n",
    "list1= ['dkdk','주지윤',22]\n",
    "print(list1)\n",
    "print(type(list1)) # 변수의 유형 확인\n",
    "print(list1[0:2])\n",
    "print(list1[0:2+1])\n",
    "\n",
    "# 삭제\n",
    "del list1[0]\n",
    "print(list1)\n"
   ]
  },
  {
   "cell_type": "code",
   "execution_count": null,
   "metadata": {},
   "outputs": [],
   "source": [
    "name = input(\"이름을 입력하세요: \")\n",
    "if name == \"주지윤\" :\n",
    "    print(f\"이름은 {name} 입니다\")\n",
    "    print(\"이름은\",name,\"입니다\")\n",
    "    print(\"이름은 {} 입니다\" .format(name))\n",
    "    print(\"이름은 %s 입니다\", name)\n",
    "else :\n",
    "    print(\"아닙니다\")"
   ]
  },
  {
   "cell_type": "code",
   "execution_count": null,
   "metadata": {},
   "outputs": [],
   "source": [
    "no1,no2 = 3,2\n",
    "hap = no1 + no2\n",
    "\n",
    "print(f\"{no1} + {no2} = {hap} \")\n",
    "print(\"{} + {} = {}\" .format(no1, no2, hap))\n",
    "print(\"%s + %s = %s\" %(no1, no2, hap))\n"
   ]
  },
  {
   "cell_type": "code",
   "execution_count": null,
   "metadata": {},
   "outputs": [],
   "source": [
    "jumsu = float(input(\"점수를 입력하세요: \"))\n",
    "\n",
    "if jumsu >= 91 and jumsu <= 100 :\n",
    "    print(\" A 등급입니다!\")\n",
    "elif jumsu >= 81 and jumsu <= 90.9 :\n",
    "    print(\" B 등급입니다!\")\n",
    "elif jumsu >= 71 and jumsu <= 80.9 :\n",
    "    print(\" C 등급입니다!\")\n",
    "else :\n",
    "    print(\" D 등급입니다!\")\n"
   ]
  },
  {
   "cell_type": "code",
   "execution_count": null,
   "metadata": {},
   "outputs": [],
   "source": [
    "for i in ['a','b','c'] :\n",
    "    print(f\"{i} 입니다\")"
   ]
  },
  {
   "cell_type": "code",
   "execution_count": null,
   "metadata": {},
   "outputs": [],
   "source": [
    "\n",
    "for i in range(1, 4+1) :\n",
    "    print(\"밥 %s그릇 주세요~\" %i)"
   ]
  },
  {
   "cell_type": "code",
   "execution_count": null,
   "metadata": {},
   "outputs": [],
   "source": [
    "for i in range(1,9+1) :\n",
    "    print(f\"3 x {i} = {3 * i}\")"
   ]
  },
  {
   "cell_type": "code",
   "execution_count": null,
   "metadata": {},
   "outputs": [],
   "source": [
    "ex1 = [1,2,3]\n",
    "ex2 = (1,2,3)\n",
    "ex3 = {1,2,3}\n",
    "ex4 = 3\n",
    "print(type(ex1))\n",
    "print(type(ex2))\n",
    "print(type(ex3))\n",
    "print(type(ex4))"
   ]
  },
  {
   "cell_type": "code",
   "execution_count": null,
   "metadata": {},
   "outputs": [],
   "source": [
    "ex_1 = [1,2,'3']\n",
    "ex_2 = [4,5,6]\n",
    "print(ex_1 + ex_2)"
   ]
  },
  {
   "cell_type": "code",
   "execution_count": null,
   "metadata": {},
   "outputs": [],
   "source": [
    "import time \n",
    "\n",
    "while True : \n",
    "    time.sleep(2)\n",
    "    print('파이썬 너무 재밌네')\n",
    "    print('아니, 파이썬 너무 어렵네')\n",
    "    break;"
   ]
  },
  {
   "cell_type": "code",
   "execution_count": 53,
   "metadata": {},
   "outputs": [],
   "source": [
    "# 사용자정의 함수의 이해\n",
    "def 더하기(x,y) :\n",
    "    return print(f\"{x} + {y} = {x+y}\")\n",
    "def 빼기(x,y) :\n",
    "    return print(f\"{x} - {y} = {x-y}\")\n",
    "def 곱하기(x,y) :\n",
    "    return print(f\"{x} * {y} = {x*y}\")\n",
    "def 나누기(x,y) :\n",
    "    return print(f\"{x} / {y} = {int(x/y)}\")\n"
   ]
  }
 ],
 "metadata": {
  "kernelspec": {
   "display_name": "Python 3.9.12 ('base')",
   "language": "python",
   "name": "python3"
  },
  "language_info": {
   "codemirror_mode": {
    "name": "ipython",
    "version": 3
   },
   "file_extension": ".py",
   "mimetype": "text/x-python",
   "name": "python",
   "nbconvert_exporter": "python",
   "pygments_lexer": "ipython3",
   "version": "3.9.12"
  },
  "orig_nbformat": 4,
  "vscode": {
   "interpreter": {
    "hash": "73cf0749d4b7577752b46e1e7aa246f05039947bda8ccb05deb262d298788094"
   }
  }
 },
 "nbformat": 4,
 "nbformat_minor": 2
}
