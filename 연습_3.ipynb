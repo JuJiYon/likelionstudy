{
 "cells": [
  {
   "cell_type": "code",
   "execution_count": 7,
   "metadata": {},
   "outputs": [
    {
     "name": "stdout",
     "output_type": "stream",
     "text": [
      "처음 쓴 글 입니다.\n",
      "\n",
      "처음 쓴 글 입니다.\n",
      "\n",
      "처음 쓴 글 입니다.\n",
      "\n"
     ]
    }
   ],
   "source": [
    "import os \n",
    "\n",
    "#for i in os.listdir() :\n",
    "   # print(i)\n",
    "\n",
    "file = open(\"script.txt\",\"r\")\n",
    "script = file.readlines()\n",
    "\n",
    "for i in script :\n",
    "    print(i)\n",
    " \n",
    "\n",
    "file.close()\n"
   ]
  },
  {
   "cell_type": "code",
   "execution_count": 1,
   "metadata": {},
   "outputs": [
    {
     "ename": "ModuleNotFoundError",
     "evalue": "No module named 'mycalc'",
     "output_type": "error",
     "traceback": [
      "\u001b[1;31m---------------------------------------------------------------------------\u001b[0m",
      "\u001b[1;31mModuleNotFoundError\u001b[0m                       Traceback (most recent call last)",
      "\u001b[1;32mc:\\Users\\JY\\py_temp\\.vscode\\mycalc\\연습_3.ipynb Cell 2'\u001b[0m in \u001b[0;36m<cell line: 1>\u001b[1;34m()\u001b[0m\n\u001b[1;32m----> <a href='vscode-notebook-cell:/c%3A/Users/JY/py_temp/.vscode/mycalc/%EC%97%B0%EC%8A%B5_3.ipynb#ch0000001?line=0'>1</a>\u001b[0m \u001b[39mfrom\u001b[39;00m \u001b[39mmycalc\u001b[39;00m \u001b[39mimport\u001b[39;00m calc1\n\u001b[0;32m      <a href='vscode-notebook-cell:/c%3A/Users/JY/py_temp/.vscode/mycalc/%EC%97%B0%EC%8A%B5_3.ipynb#ch0000001?line=1'>2</a>\u001b[0m calc1\u001b[39m.\u001b[39m곱하기(\u001b[39m3\u001b[39m,\u001b[39m3\u001b[39m)\n",
      "\u001b[1;31mModuleNotFoundError\u001b[0m: No module named 'mycalc'"
     ]
    }
   ],
   "source": [
    "from mycalc import calc1\n",
    "calc1.곱하기(3,3)"
   ]
  },
  {
   "cell_type": "code",
   "execution_count": 9,
   "metadata": {},
   "outputs": [
    {
     "name": "stdout",
     "output_type": "stream",
     "text": [
      "invalid literal for int() with base 10: 'f'\n",
      "\n",
      "숫자를 입력하세요\n",
      "\n",
      "수고하셨습니다\n"
     ]
    }
   ],
   "source": [
    "try :\n",
    "    no_ex1 = int(input(\"숫자 입력 : \"))\n",
    "    no_ex2 = int(input(\"숫자 입력 : \"))\n",
    "    result = no_ex1 / no_ex2\n",
    "except ValueError as msg :\n",
    "    print(msg)\n",
    "    print(\"\\n숫자를 입력하세요\")\n",
    "except ZeroDivisionError :\n",
    "    print(\"0으로 나눌 수 없습니다\")\n",
    "except (AttributeError,TabError,TypeError): #3가지 에러 동시\n",
    "    # print(\"알 수 없는 에러 발생~\") \n",
    "    pass\n",
    "else :\n",
    "    print(\"나눈 값은 : \", result)\n",
    "finally :\n",
    "    print(\"\\n수고하셨습니다\")"
   ]
  },
  {
   "cell_type": "code",
   "execution_count": null,
   "metadata": {},
   "outputs": [],
   "source": [
    "import selenium\n"
   ]
  },
  {
   "cell_type": "code",
   "execution_count": null,
   "metadata": {},
   "outputs": [],
   "source": []
  }
 ],
 "metadata": {
  "kernelspec": {
   "display_name": "Python 3.9.12 ('base')",
   "language": "python",
   "name": "python3"
  },
  "language_info": {
   "codemirror_mode": {
    "name": "ipython",
    "version": 3
   },
   "file_extension": ".py",
   "mimetype": "text/x-python",
   "name": "python",
   "nbconvert_exporter": "python",
   "pygments_lexer": "ipython3",
   "version": "3.9.12"
  },
  "orig_nbformat": 4,
  "vscode": {
   "interpreter": {
    "hash": "73cf0749d4b7577752b46e1e7aa246f05039947bda8ccb05deb262d298788094"
   }
  }
 },
 "nbformat": 4,
 "nbformat_minor": 2
}
